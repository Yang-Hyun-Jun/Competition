{
  "nbformat": 4,
  "nbformat_minor": 0,
  "metadata": {
    "accelerator": "GPU",
    "colab": {
      "name": "S1-T1 gap prediction.ipynb",
      "provenance": [],
      "collapsed_sections": [
        "a1JYkNLjj1dv",
        "V2sDGdTOfOy8",
        "SkyL-T698dAF",
        "d4HrX3oa6Za8",
        "vvUQYFDN6VMN",
        "CD95YHn5pTJj",
        "76aeKfkfdqU4"
      ],
      "include_colab_link": true
    },
    "kernelspec": {
      "display_name": "Python 3",
      "name": "python3"
    },
    "language_info": {
      "name": "python"
    }
  },
  "cells": [
    {
      "cell_type": "markdown",
      "metadata": {
        "id": "view-in-github",
        "colab_type": "text"
      },
      "source": [
        "<a href=\"https://colab.research.google.com/github/Yang-Hyun-Jun/Competition/blob/main/S1_T1_gap_prediction.ipynb\" target=\"_parent\"><img src=\"https://colab.research.google.com/assets/colab-badge.svg\" alt=\"Open In Colab\"/></a>"
      ]
    },
    {
      "cell_type": "markdown",
      "metadata": {
        "id": "a1JYkNLjj1dv"
      },
      "source": [
        "### Import"
      ]
    },
    {
      "cell_type": "code",
      "metadata": {
        "colab": {
          "base_uri": "https://localhost:8080/"
        },
        "id": "8r28lb9xjJw8",
        "outputId": "498cfa9a-0bad-46c0-da5e-6097459b108b"
      },
      "source": [
        "!pip install kora -q\n",
        "import kora.install.rdkit"
      ],
      "execution_count": null,
      "outputs": [
        {
          "output_type": "stream",
          "text": [
            "\u001b[K     |████████████████████████████████| 57 kB 1.5 MB/s \n",
            "\u001b[K     |████████████████████████████████| 56 kB 2.7 MB/s \n",
            "\u001b[?25h"
          ],
          "name": "stdout"
        }
      ]
    },
    {
      "cell_type": "code",
      "metadata": {
        "id": "Y4C-scXKEPjF",
        "colab": {
          "base_uri": "https://localhost:8080/"
        },
        "outputId": "53613805-3e1d-44a0-c40a-d8b97c30cb48"
      },
      "source": [
        "!pip install lightgbm"
      ],
      "execution_count": null,
      "outputs": [
        {
          "output_type": "stream",
          "text": [
            "Requirement already satisfied: lightgbm in /usr/local/lib/python3.7/dist-packages (2.2.3)\n",
            "Requirement already satisfied: numpy in /usr/local/lib/python3.7/dist-packages (from lightgbm) (1.19.5)\n",
            "Requirement already satisfied: scipy in /usr/local/lib/python3.7/dist-packages (from lightgbm) (1.4.1)\n",
            "Requirement already satisfied: scikit-learn in /usr/local/lib/python3.7/dist-packages (from lightgbm) (0.22.2.post1)\n",
            "Requirement already satisfied: joblib>=0.11 in /usr/local/lib/python3.7/dist-packages (from scikit-learn->lightgbm) (1.0.1)\n"
          ],
          "name": "stdout"
        }
      ]
    },
    {
      "cell_type": "code",
      "metadata": {
        "id": "kZjzWG9Ieodr"
      },
      "source": [
        "import numpy as np\n",
        "import tensorflow as tf\n",
        "import pandas as pd\n",
        "import matplotlib.pyplot as plt\n",
        "\n",
        "from google.colab import drive\n",
        "from tensorflow.keras.models import Sequential, Model\n",
        "from tensorflow.keras.layers import LSTM, Dense, Input, Reshape\n",
        "from tensorflow.keras.layers import BatchNormalization, Activation, Dropout, Flatten \n",
        "from tensorflow.keras.optimizers import Adam\n",
        "from sklearn.model_selection import train_test_split\n",
        "\n",
        "from rdkit import Chem"
      ],
      "execution_count": null,
      "outputs": []
    },
    {
      "cell_type": "code",
      "metadata": {
        "colab": {
          "base_uri": "https://localhost:8080/"
        },
        "id": "Kobreat_g8fE",
        "outputId": "be010861-5684-4933-d42c-bef8735a5c0e"
      },
      "source": [
        "drive.mount(\"/content/drive\")"
      ],
      "execution_count": null,
      "outputs": [
        {
          "output_type": "stream",
          "text": [
            "Mounted at /content/drive\n"
          ],
          "name": "stdout"
        }
      ]
    },
    {
      "cell_type": "code",
      "metadata": {
        "id": "ciSNiQTMhM7w"
      },
      "source": [
        "path = \"/content/drive/MyDrive/samsung/\""
      ],
      "execution_count": null,
      "outputs": []
    },
    {
      "cell_type": "markdown",
      "metadata": {
        "id": "V2sDGdTOfOy8"
      },
      "source": [
        "### 전처리 "
      ]
    },
    {
      "cell_type": "code",
      "metadata": {
        "id": "8k6Hh5wl_Bk5",
        "colab": {
          "base_uri": "https://localhost:8080/",
          "height": 473
        },
        "outputId": "60c4d5eb-248b-4cb1-c624-7f42706bd29f"
      },
      "source": [
        "train_calcdesc = pd.read_csv(path + \"train_calcdesc.csv\")\n",
        "train_calcdesc"
      ],
      "execution_count": null,
      "outputs": [
        {
          "output_type": "execute_result",
          "data": {
            "text/html": [
              "<div>\n",
              "<style scoped>\n",
              "    .dataframe tbody tr th:only-of-type {\n",
              "        vertical-align: middle;\n",
              "    }\n",
              "\n",
              "    .dataframe tbody tr th {\n",
              "        vertical-align: top;\n",
              "    }\n",
              "\n",
              "    .dataframe thead th {\n",
              "        text-align: right;\n",
              "    }\n",
              "</style>\n",
              "<table border=\"1\" class=\"dataframe\">\n",
              "  <thead>\n",
              "    <tr style=\"text-align: right;\">\n",
              "      <th></th>\n",
              "      <th>uid</th>\n",
              "      <th>SMILES</th>\n",
              "      <th>S1_energy(eV)</th>\n",
              "      <th>T1_energy(eV)</th>\n",
              "      <th>abonds</th>\n",
              "      <th>atoms</th>\n",
              "      <th>bonds</th>\n",
              "      <th>dbonds</th>\n",
              "      <th>HBA1</th>\n",
              "      <th>HBA2</th>\n",
              "      <th>HBD</th>\n",
              "      <th>logP</th>\n",
              "      <th>MP</th>\n",
              "      <th>MR</th>\n",
              "      <th>MW</th>\n",
              "      <th>nF</th>\n",
              "      <th>rotors</th>\n",
              "      <th>sbonds</th>\n",
              "      <th>tbonds</th>\n",
              "      <th>TPSA</th>\n",
              "      <th>gap</th>\n",
              "    </tr>\n",
              "  </thead>\n",
              "  <tbody>\n",
              "    <tr>\n",
              "      <th>0</th>\n",
              "      <td>train_0</td>\n",
              "      <td>CCC1CCCCN1C(=O)C(C)OC(=O)c1c(C)oc(-n2cccc2)c1C#N</td>\n",
              "      <td>4.6747</td>\n",
              "      <td>3.3809</td>\n",
              "      <td>10.0</td>\n",
              "      <td>53.0</td>\n",
              "      <td>55.0</td>\n",
              "      <td>2.0</td>\n",
              "      <td>30.0</td>\n",
              "      <td>7.0</td>\n",
              "      <td>0.0</td>\n",
              "      <td>3.52468</td>\n",
              "      <td>148.1122</td>\n",
              "      <td>107.1555</td>\n",
              "      <td>383.44090</td>\n",
              "      <td>0.0</td>\n",
              "      <td>7.0</td>\n",
              "      <td>42.0</td>\n",
              "      <td>1.0</td>\n",
              "      <td>88.47</td>\n",
              "      <td>1.2938</td>\n",
              "    </tr>\n",
              "    <tr>\n",
              "      <th>1</th>\n",
              "      <td>train_1</td>\n",
              "      <td>COc1ccc(Oc2ccc(N3C(=S)NC(c4ccccn4)C3c3cc(C)n(-...</td>\n",
              "      <td>3.6617</td>\n",
              "      <td>3.4585</td>\n",
              "      <td>29.0</td>\n",
              "      <td>71.0</td>\n",
              "      <td>76.0</td>\n",
              "      <td>1.0</td>\n",
              "      <td>36.0</td>\n",
              "      <td>8.0</td>\n",
              "      <td>2.0</td>\n",
              "      <td>8.21990</td>\n",
              "      <td>315.7129</td>\n",
              "      <td>176.8537</td>\n",
              "      <td>597.12636</td>\n",
              "      <td>0.0</td>\n",
              "      <td>7.0</td>\n",
              "      <td>46.0</td>\n",
              "      <td>0.0</td>\n",
              "      <td>103.87</td>\n",
              "      <td>0.2032</td>\n",
              "    </tr>\n",
              "    <tr>\n",
              "      <th>2</th>\n",
              "      <td>train_2</td>\n",
              "      <td>CC(=O)Nc1ccc(C(=O)[C@H](C)Sc2nnc(C3CCCCC3)o2)cc1</td>\n",
              "      <td>3.6420</td>\n",
              "      <td>3.1787</td>\n",
              "      <td>11.0</td>\n",
              "      <td>49.0</td>\n",
              "      <td>51.0</td>\n",
              "      <td>2.0</td>\n",
              "      <td>29.0</td>\n",
              "      <td>7.0</td>\n",
              "      <td>1.0</td>\n",
              "      <td>4.51220</td>\n",
              "      <td>187.5404</td>\n",
              "      <td>101.7412</td>\n",
              "      <td>373.46922</td>\n",
              "      <td>0.0</td>\n",
              "      <td>7.0</td>\n",
              "      <td>38.0</td>\n",
              "      <td>0.0</td>\n",
              "      <td>110.39</td>\n",
              "      <td>0.4633</td>\n",
              "    </tr>\n",
              "    <tr>\n",
              "      <th>3</th>\n",
              "      <td>train_3</td>\n",
              "      <td>OC(CNC1CC1)CN1CCc2sccc2C1</td>\n",
              "      <td>4.8901</td>\n",
              "      <td>3.7847</td>\n",
              "      <td>5.0</td>\n",
              "      <td>37.0</td>\n",
              "      <td>39.0</td>\n",
              "      <td>0.0</td>\n",
              "      <td>23.0</td>\n",
              "      <td>4.0</td>\n",
              "      <td>2.0</td>\n",
              "      <td>1.54790</td>\n",
              "      <td>100.1604</td>\n",
              "      <td>74.4465</td>\n",
              "      <td>252.37570</td>\n",
              "      <td>0.0</td>\n",
              "      <td>5.0</td>\n",
              "      <td>34.0</td>\n",
              "      <td>0.0</td>\n",
              "      <td>63.74</td>\n",
              "      <td>1.1054</td>\n",
              "    </tr>\n",
              "    <tr>\n",
              "      <th>4</th>\n",
              "      <td>train_4</td>\n",
              "      <td>CCNC(CCCC(F)(F)F)C1(OCC)CCOCC1</td>\n",
              "      <td>6.4967</td>\n",
              "      <td>6.2724</td>\n",
              "      <td>0.0</td>\n",
              "      <td>46.0</td>\n",
              "      <td>46.0</td>\n",
              "      <td>0.0</td>\n",
              "      <td>29.0</td>\n",
              "      <td>3.0</td>\n",
              "      <td>1.0</td>\n",
              "      <td>3.67370</td>\n",
              "      <td>10.2322</td>\n",
              "      <td>72.4987</td>\n",
              "      <td>297.35695</td>\n",
              "      <td>3.0</td>\n",
              "      <td>9.0</td>\n",
              "      <td>46.0</td>\n",
              "      <td>0.0</td>\n",
              "      <td>30.49</td>\n",
              "      <td>0.2243</td>\n",
              "    </tr>\n",
              "    <tr>\n",
              "      <th>...</th>\n",
              "      <td>...</td>\n",
              "      <td>...</td>\n",
              "      <td>...</td>\n",
              "      <td>...</td>\n",
              "      <td>...</td>\n",
              "      <td>...</td>\n",
              "      <td>...</td>\n",
              "      <td>...</td>\n",
              "      <td>...</td>\n",
              "      <td>...</td>\n",
              "      <td>...</td>\n",
              "      <td>...</td>\n",
              "      <td>...</td>\n",
              "      <td>...</td>\n",
              "      <td>...</td>\n",
              "      <td>...</td>\n",
              "      <td>...</td>\n",
              "      <td>...</td>\n",
              "      <td>...</td>\n",
              "      <td>...</td>\n",
              "      <td>...</td>\n",
              "    </tr>\n",
              "    <tr>\n",
              "      <th>30265</th>\n",
              "      <td>train_30269</td>\n",
              "      <td>COc1c(/C=N/Nc2ccc(C#N)cc2)ccc2ccccc12</td>\n",
              "      <td>3.7109</td>\n",
              "      <td>2.4774</td>\n",
              "      <td>17.0</td>\n",
              "      <td>38.0</td>\n",
              "      <td>40.0</td>\n",
              "      <td>1.0</td>\n",
              "      <td>19.0</td>\n",
              "      <td>4.0</td>\n",
              "      <td>1.0</td>\n",
              "      <td>4.23908</td>\n",
              "      <td>176.3131</td>\n",
              "      <td>92.6327</td>\n",
              "      <td>301.34190</td>\n",
              "      <td>0.0</td>\n",
              "      <td>4.0</td>\n",
              "      <td>21.0</td>\n",
              "      <td>1.0</td>\n",
              "      <td>57.41</td>\n",
              "      <td>1.2335</td>\n",
              "    </tr>\n",
              "    <tr>\n",
              "      <th>30266</th>\n",
              "      <td>train_30270</td>\n",
              "      <td>Cc1cc(=O)oc2c3c4c(cc12)CCCN4CCC3</td>\n",
              "      <td>3.8752</td>\n",
              "      <td>2.6624</td>\n",
              "      <td>11.0</td>\n",
              "      <td>36.0</td>\n",
              "      <td>39.0</td>\n",
              "      <td>1.0</td>\n",
              "      <td>19.0</td>\n",
              "      <td>3.0</td>\n",
              "      <td>0.0</td>\n",
              "      <td>2.86520</td>\n",
              "      <td>151.0189</td>\n",
              "      <td>79.9100</td>\n",
              "      <td>255.31168</td>\n",
              "      <td>0.0</td>\n",
              "      <td>0.0</td>\n",
              "      <td>27.0</td>\n",
              "      <td>0.0</td>\n",
              "      <td>33.45</td>\n",
              "      <td>1.2128</td>\n",
              "    </tr>\n",
              "    <tr>\n",
              "      <th>30267</th>\n",
              "      <td>train_30271</td>\n",
              "      <td>Cc1cc(=O)oc2ccc3ccc(-c4cn(Cc5ccccc5)nn4)cc3c12</td>\n",
              "      <td>3.7905</td>\n",
              "      <td>2.6050</td>\n",
              "      <td>27.0</td>\n",
              "      <td>45.0</td>\n",
              "      <td>49.0</td>\n",
              "      <td>1.0</td>\n",
              "      <td>20.0</td>\n",
              "      <td>5.0</td>\n",
              "      <td>0.0</td>\n",
              "      <td>4.56140</td>\n",
              "      <td>235.3467</td>\n",
              "      <td>109.7210</td>\n",
              "      <td>367.39998</td>\n",
              "      <td>0.0</td>\n",
              "      <td>3.0</td>\n",
              "      <td>21.0</td>\n",
              "      <td>0.0</td>\n",
              "      <td>60.92</td>\n",
              "      <td>1.1855</td>\n",
              "    </tr>\n",
              "    <tr>\n",
              "      <th>30268</th>\n",
              "      <td>train_30272</td>\n",
              "      <td>CCCCCCN1C(=O)c2cccc3c(-c4cccs4)ccc(c23)C1=O</td>\n",
              "      <td>3.5176</td>\n",
              "      <td>2.4248</td>\n",
              "      <td>15.0</td>\n",
              "      <td>47.0</td>\n",
              "      <td>50.0</td>\n",
              "      <td>4.0</td>\n",
              "      <td>22.0</td>\n",
              "      <td>4.0</td>\n",
              "      <td>0.0</td>\n",
              "      <td>4.16050</td>\n",
              "      <td>194.6409</td>\n",
              "      <td>112.3385</td>\n",
              "      <td>363.47264</td>\n",
              "      <td>0.0</td>\n",
              "      <td>5.0</td>\n",
              "      <td>31.0</td>\n",
              "      <td>0.0</td>\n",
              "      <td>77.15</td>\n",
              "      <td>1.0928</td>\n",
              "    </tr>\n",
              "    <tr>\n",
              "      <th>30269</th>\n",
              "      <td>train_30273</td>\n",
              "      <td>C(=C/c1ccncn1)\\c1ccc(N(c2ccccc2)c2ccc(/C=C/c3c...</td>\n",
              "      <td>2.9422</td>\n",
              "      <td>2.2546</td>\n",
              "      <td>30.0</td>\n",
              "      <td>58.0</td>\n",
              "      <td>62.0</td>\n",
              "      <td>2.0</td>\n",
              "      <td>28.0</td>\n",
              "      <td>4.0</td>\n",
              "      <td>0.0</td>\n",
              "      <td>7.07720</td>\n",
              "      <td>260.9135</td>\n",
              "      <td>143.0450</td>\n",
              "      <td>453.53712</td>\n",
              "      <td>0.0</td>\n",
              "      <td>7.0</td>\n",
              "      <td>30.0</td>\n",
              "      <td>0.0</td>\n",
              "      <td>54.80</td>\n",
              "      <td>0.6876</td>\n",
              "    </tr>\n",
              "  </tbody>\n",
              "</table>\n",
              "<p>30270 rows × 21 columns</p>\n",
              "</div>"
            ],
            "text/plain": [
              "               uid  ...     gap\n",
              "0          train_0  ...  1.2938\n",
              "1          train_1  ...  0.2032\n",
              "2          train_2  ...  0.4633\n",
              "3          train_3  ...  1.1054\n",
              "4          train_4  ...  0.2243\n",
              "...            ...  ...     ...\n",
              "30265  train_30269  ...  1.2335\n",
              "30266  train_30270  ...  1.2128\n",
              "30267  train_30271  ...  1.1855\n",
              "30268  train_30272  ...  1.0928\n",
              "30269  train_30273  ...  0.6876\n",
              "\n",
              "[30270 rows x 21 columns]"
            ]
          },
          "metadata": {},
          "execution_count": 6
        }
      ]
    },
    {
      "cell_type": "code",
      "metadata": {
        "id": "TAOGqL7JivT1",
        "colab": {
          "base_uri": "https://localhost:8080/"
        },
        "outputId": "6e41f76f-5c67-494c-8ebd-8e0cdc7e17b1"
      },
      "source": [
        "train_calcdesc.info()"
      ],
      "execution_count": null,
      "outputs": [
        {
          "output_type": "stream",
          "text": [
            "<class 'pandas.core.frame.DataFrame'>\n",
            "RangeIndex: 30270 entries, 0 to 30269\n",
            "Data columns (total 21 columns):\n",
            " #   Column         Non-Null Count  Dtype  \n",
            "---  ------         --------------  -----  \n",
            " 0   uid            30270 non-null  object \n",
            " 1   SMILES         30270 non-null  object \n",
            " 2   S1_energy(eV)  30270 non-null  float64\n",
            " 3   T1_energy(eV)  30270 non-null  float64\n",
            " 4   abonds         30270 non-null  float64\n",
            " 5   atoms          30270 non-null  float64\n",
            " 6   bonds          30270 non-null  float64\n",
            " 7   dbonds         30270 non-null  float64\n",
            " 8   HBA1           30270 non-null  float64\n",
            " 9   HBA2           30270 non-null  float64\n",
            " 10  HBD            30270 non-null  float64\n",
            " 11  logP           30270 non-null  float64\n",
            " 12  MP             30270 non-null  float64\n",
            " 13  MR             30270 non-null  float64\n",
            " 14  MW             30270 non-null  float64\n",
            " 15  nF             30270 non-null  float64\n",
            " 16  rotors         30270 non-null  float64\n",
            " 17  sbonds         30270 non-null  float64\n",
            " 18  tbonds         30270 non-null  float64\n",
            " 19  TPSA           30270 non-null  float64\n",
            " 20  gap            30270 non-null  float64\n",
            "dtypes: float64(19), object(2)\n",
            "memory usage: 4.8+ MB\n"
          ],
          "name": "stdout"
        }
      ]
    },
    {
      "cell_type": "code",
      "metadata": {
        "id": "D7iSvceOKAxf"
      },
      "source": [
        "def fingerprint(df):\n",
        "  fg_list = []\n",
        "  smiles = df[\"SMILES\"]\n",
        "  \n",
        "  for smile in smiles:\n",
        "    mol = Chem.MolFromSmiles(smile)\n",
        "    fg = Chem.RDKFingerprint(mol)\n",
        "    fg_list.append(fg)\n",
        "  \n",
        "  fg_list = np.array(fg_list)\n",
        "  return fg_list\n",
        "\n",
        "def scaler(data):\n",
        "  for i in range(data.shape[1]):\n",
        "    max = np.max(data[:,i])\n",
        "    min = np.min(data[:,i])\n",
        "    \n",
        "    if max == min:\n",
        "      data[:,i] = 0\n",
        "    else:\n",
        "      data[:,i] = (data[:,i]-min)/(max-min)              \n",
        "  return data\n",
        "  \n",
        "def gen_xy(df, feat = False):\n",
        "  features = df.iloc[:,np.arange(16)+4]\n",
        "  features = features.to_numpy()\n",
        "  features = scaler(features)\n",
        "  \n",
        "  if feat == False:\n",
        "    x = fg_list.copy()\n",
        "  if feat == True:\n",
        "    x = np.concatenate([fg_list, features], axis=1)\n",
        "    \n",
        "  y = np.array(df[\"gap\"])\n",
        "  return x, y"
      ],
      "execution_count": null,
      "outputs": []
    },
    {
      "cell_type": "code",
      "metadata": {
        "colab": {
          "base_uri": "https://localhost:8080/"
        },
        "id": "uBtsDYnwY09w",
        "outputId": "c2a09629-d846-4e81-c77f-d39cbccab90c"
      },
      "source": [
        "#분자 구조 SMILES 형식 변환\n",
        "fg_list = fingerprint(train_calcdesc).astype(np.float64)\n",
        "fg_list.shape"
      ],
      "execution_count": null,
      "outputs": [
        {
          "output_type": "execute_result",
          "data": {
            "text/plain": [
              "(30270, 2048)"
            ]
          },
          "metadata": {},
          "execution_count": 9
        }
      ]
    },
    {
      "cell_type": "code",
      "metadata": {
        "colab": {
          "base_uri": "https://localhost:8080/"
        },
        "id": "WFtXOsltlgjJ",
        "outputId": "cbdacb33-a9ca-43fe-fd20-48399807bdee"
      },
      "source": [
        "x_data, y_data = gen_xy(train_calcdesc)\n",
        "x_data.shape, y_data.shape"
      ],
      "execution_count": null,
      "outputs": [
        {
          "output_type": "execute_result",
          "data": {
            "text/plain": [
              "((30270, 2048), (30270,))"
            ]
          },
          "metadata": {},
          "execution_count": 10
        }
      ]
    },
    {
      "cell_type": "markdown",
      "metadata": {
        "id": "SkyL-T698dAF"
      },
      "source": [
        "### Models "
      ]
    },
    {
      "cell_type": "markdown",
      "metadata": {
        "id": "d4HrX3oa6Za8"
      },
      "source": [
        "#### 개별 모델"
      ]
    },
    {
      "cell_type": "code",
      "metadata": {
        "id": "JD7j-Y0t9Up-"
      },
      "source": [
        "seed = 42"
      ],
      "execution_count": null,
      "outputs": []
    },
    {
      "cell_type": "code",
      "metadata": {
        "id": "NvaW0hXv-M_V"
      },
      "source": [
        "### XGB \n",
        "import xgboost\n",
        "n_est1 = 1000\n",
        "\n",
        "xgb_parameter = {\"objective\":'reg:squarederror',\n",
        "                 \"subsample\":0.6,\n",
        "                 \"colsample_bytree\":0.7,\n",
        "                 \"learning_rate\":0.05,\n",
        "                 \"random_state\":seed,\n",
        "                 \"n_estimators\":n_est1,\n",
        "                 \"max_depth\":8,\n",
        "                 \"max_bin\":260,\n",
        "                 \"max_leaves\":5,\n",
        "                 \"num_iterations\":1000,\n",
        "                 \"gamma\":0.5}\n",
        "\n",
        "xgb_model = xgboost.XGBRegressor(**xgb_parameter)"
      ],
      "execution_count": null,
      "outputs": []
    },
    {
      "cell_type": "code",
      "metadata": {
        "id": "C0qro89TAvAk"
      },
      "source": [
        "### RandomForest\n",
        "from sklearn.ensemble import RandomForestRegressor\n",
        "n_est2 = 1000\n",
        "\n",
        "RF_parameter = {'max_depth': 20,\n",
        "                'min_samples_leaf': 2,\n",
        "                'min_samples_split':6,\n",
        "                'random_state': seed,\n",
        "                'max_leaf_nodes': 500,\n",
        "                'n_estimators': n_est2\n",
        "                }\n",
        "\n",
        "RF_model = RandomForestRegressor(**RF_parameter)"
      ],
      "execution_count": null,
      "outputs": []
    },
    {
      "cell_type": "code",
      "metadata": {
        "id": "XY6EaTyG6A7e"
      },
      "source": [
        "### LGB\n",
        "from lightgbm import LGBMRegressor\n",
        "n_est3=2000\n",
        "\n",
        "lgb_parameters = {'n_estimators': n_est3,\n",
        "                  'random_state': seed,\n",
        "                  'learning_rate': 0.03,\n",
        "                  'num_leaves': 255,\n",
        "                  'max_depth': 30,\n",
        "                  'max_bin': 300,\n",
        "                  'subsample':0.8,\n",
        "                  'subsamle_freq':3,\n",
        "                  'min_child_samples':2,\n",
        "                  'colsample_bytree':0.6\n",
        "                  }\n",
        "\n",
        "lgb_model = LGBMRegressor(**lgb_parameters)"
      ],
      "execution_count": null,
      "outputs": []
    },
    {
      "cell_type": "markdown",
      "metadata": {
        "id": "vvUQYFDN6VMN"
      },
      "source": [
        "#### GridSearch"
      ]
    },
    {
      "cell_type": "code",
      "metadata": {
        "colab": {
          "background_save": true
        },
        "id": "RR6Jv7TdgAtn"
      },
      "source": [
        "from sklearn.model_selection import KFold\n",
        "from sklearn.model_selection import GridSearchCV\n",
        "\n",
        "xgb_model = xgboost.XGBRegressor()\n",
        "xgb_parameter = {\"subsample\":[0.5, 0.6, 0.7],\n",
        "                 \"colsample_bytree\":[0.5, 0.6, 0.7],\n",
        "                 \"learning_rate\":[0.05, 0.02, 0.01],\n",
        "                 \"random_state\":[42],\n",
        "                 \"n_estimators\":[2000, 3000, 5000],\n",
        "                 \"max_depth\":[6, 8, 10],\n",
        "                 \"max_bin\":[260, 255, 270],\n",
        "                 \"max_leaves\":[5, 4, 3],\n",
        "                 \"num_iterations\":[1000, 1100, 1200],\n",
        "                 \"gamma\":[0.5, 0.4, 0.3]}\n",
        "\n",
        "cv = KFold(n_splits=6, random_state=42)\n",
        "GS=GridSearchCV(xgb_model, param_grid=xgb_parameter, cv=cv, scoring='f1', n_jobs=-1)\n",
        "\n",
        "GS.fit(x_data, y_data)\n",
        "print('final params', GS.best_params_)  \n",
        "print('best score', GS.best_score_)"
      ],
      "execution_count": null,
      "outputs": []
    },
    {
      "cell_type": "code",
      "metadata": {
        "id": "W8rYOb0q4O4q"
      },
      "source": [
        "from sklearn.ensemble import RandomForestRegressor\n",
        "from sklearn.model_selection import KFold\n",
        "from sklearn.model_selection import GridSearchCV\n",
        "\n",
        "RF_model = RandomForestRegressor()\n",
        "RF_parameter = {\"max_depth\":[8, 12, 20],\n",
        "                \"min_samples_leaf\":[2, 4],\n",
        "                \"min_samples_split\":[6, 8],\n",
        "                \"max_leaf_nodes\":[1000, 2000, 3000],\n",
        "                \"n_estimators\":[1000, 2000, 3000],\n",
        "                \"random_state\":[42],\n",
        "                # \"criterion\"\n",
        "                }\n",
        "\n",
        "cv = KFold(n_splits=6, random_state=42)\n",
        "GS=GridSearchCV(RF_model, param_grid=RF_parameter, cv=cv, scoring='neg_mean_absolute_error', n_jobs=-1)\n",
        "\n",
        "GS.fit(x_data[:15000], y_data[:15000])\n",
        "print('final params', GS.best_params_)  \n",
        "print('best score', GS.best_score_)"
      ],
      "execution_count": null,
      "outputs": []
    },
    {
      "cell_type": "markdown",
      "metadata": {
        "id": "CD95YHn5pTJj"
      },
      "source": [
        "#### Staking"
      ]
    },
    {
      "cell_type": "code",
      "metadata": {
        "id": "4EpIhgEJWpVr"
      },
      "source": [
        "seed = 42 \n",
        "n_folds = 6"
      ],
      "execution_count": null,
      "outputs": []
    },
    {
      "cell_type": "code",
      "metadata": {
        "id": "Oo_PkJpsPIF7"
      },
      "source": [
        "from sklearn.model_selection import KFold\n",
        "\n",
        "def staking_dataset(model, x_train, y_train, x_test, n_folds):\n",
        "  kf = KFold(n_splits=n_folds, shuffle=True, random_state=seed)\n",
        "  kf_x = kf.split(x_train)\n",
        "\n",
        "  train_pred = np.zeros((x_train.shape[0], 1))\n",
        "  test_pred = np.zeros((x_test.shape[0], n_folds))\n",
        "\n",
        "  for i, (train_index, valid_index) in enumerate(kf_x):\n",
        "    print(f\"{i} fold set\")\n",
        "    x_tr = x_train[train_index]\n",
        "    y_tr = y_train[train_index]\n",
        "    x_va = x_train[valid_index]\n",
        "\n",
        "    if model == fc_model:\n",
        "      model.compile(Adam(3e-4), \"MAE\")\n",
        "      model.fit(x_tr, y_tr, epochs=30) \n",
        "    else:\n",
        "      model.fit(x_tr, y_tr)\n",
        "\n",
        "    train_pred[valid_index,:] = model.predict(x_va).reshape((-1, 1))\n",
        "    test_pred[:,i:i+1] = model.predict(x_test).reshape((-1, 1))\n",
        "\n",
        "  test_pred_mean = np.mean(test_pred, axis=1).reshape((-1, 1))\n",
        "  return train_pred, test_pred_mean"
      ],
      "execution_count": null,
      "outputs": []
    },
    {
      "cell_type": "code",
      "metadata": {
        "id": "XYroJPkEhJn8",
        "colab": {
          "base_uri": "https://localhost:8080/"
        },
        "outputId": "363e9003-312d-4a80-886d-18b81f304d98"
      },
      "source": [
        "fc_train, fc_test = staking_dataset(fc_model, x_data, y_data, fg_test, n_folds)\n",
        "xgb_train, xgb_test = staking_dataset(xgb_model, x_data, y_data, fg_test, n_folds)\n",
        "lgb_train, lgb_test = staking_dataset(lgb_model, x_data, y_data, fg_test, n_folds)\n",
        "\n",
        "print(fc_train.shape, fc_test.shape)\n",
        "print(xgb_train.shape, xgb_test.shape)\n",
        "print(lgb_train.shape, lgb_test.shape)"
      ],
      "execution_count": null,
      "outputs": [
        {
          "output_type": "stream",
          "text": [
            "0 fold set\n",
            "Epoch 1/30\n",
            "789/789 [==============================] - 11s 10ms/step - loss: 0.2804\n",
            "Epoch 2/30\n",
            "789/789 [==============================] - 7s 9ms/step - loss: 0.2059\n",
            "Epoch 3/30\n",
            "789/789 [==============================] - 7s 9ms/step - loss: 0.1840\n",
            "Epoch 4/30\n",
            "789/789 [==============================] - 8s 10ms/step - loss: 0.1703\n",
            "Epoch 5/30\n",
            "789/789 [==============================] - 7s 9ms/step - loss: 0.1586\n",
            "Epoch 6/30\n",
            "789/789 [==============================] - 8s 10ms/step - loss: 0.1492\n",
            "Epoch 7/30\n",
            "789/789 [==============================] - 7s 9ms/step - loss: 0.1420\n",
            "Epoch 8/30\n",
            "789/789 [==============================] - 7s 9ms/step - loss: 0.1344\n",
            "Epoch 9/30\n",
            "789/789 [==============================] - 8s 10ms/step - loss: 0.1297\n",
            "Epoch 10/30\n",
            "789/789 [==============================] - 8s 10ms/step - loss: 0.1235\n",
            "Epoch 11/30\n",
            "789/789 [==============================] - 7s 9ms/step - loss: 0.1169\n",
            "Epoch 12/30\n",
            "789/789 [==============================] - 8s 10ms/step - loss: 0.1149\n",
            "Epoch 13/30\n",
            "789/789 [==============================] - 8s 10ms/step - loss: 0.1101\n",
            "Epoch 14/30\n",
            "789/789 [==============================] - 8s 10ms/step - loss: 0.1062\n",
            "Epoch 15/30\n",
            "789/789 [==============================] - 7s 9ms/step - loss: 0.1035\n",
            "Epoch 16/30\n",
            "789/789 [==============================] - 8s 10ms/step - loss: 0.1003\n",
            "Epoch 17/30\n",
            "789/789 [==============================] - 8s 10ms/step - loss: 0.0963\n",
            "Epoch 18/30\n",
            "789/789 [==============================] - 8s 10ms/step - loss: 0.0936\n",
            "Epoch 19/30\n",
            "789/789 [==============================] - 7s 9ms/step - loss: 0.0916\n",
            "Epoch 20/30\n",
            "789/789 [==============================] - 8s 10ms/step - loss: 0.0891\n",
            "Epoch 21/30\n",
            "789/789 [==============================] - 7s 9ms/step - loss: 0.0859\n",
            "Epoch 22/30\n",
            "789/789 [==============================] - 8s 10ms/step - loss: 0.0842\n",
            "Epoch 23/30\n",
            "789/789 [==============================] - 8s 10ms/step - loss: 0.0811\n",
            "Epoch 24/30\n",
            "789/789 [==============================] - 8s 10ms/step - loss: 0.0800\n",
            "Epoch 25/30\n",
            "789/789 [==============================] - 7s 9ms/step - loss: 0.0779\n",
            "Epoch 26/30\n",
            "789/789 [==============================] - 8s 10ms/step - loss: 0.0757\n",
            "Epoch 27/30\n",
            "789/789 [==============================] - 7s 9ms/step - loss: 0.0745\n",
            "Epoch 28/30\n",
            "789/789 [==============================] - 8s 10ms/step - loss: 0.0711\n",
            "Epoch 29/30\n",
            "789/789 [==============================] - 8s 10ms/step - loss: 0.0700\n",
            "Epoch 30/30\n",
            "789/789 [==============================] - 8s 10ms/step - loss: 0.0687\n",
            "1 fold set\n",
            "Epoch 1/30\n",
            "789/789 [==============================] - 9s 10ms/step - loss: 0.0920\n",
            "Epoch 2/30\n",
            "789/789 [==============================] - 8s 10ms/step - loss: 0.0841\n",
            "Epoch 3/30\n",
            "789/789 [==============================] - 8s 10ms/step - loss: 0.0788\n",
            "Epoch 4/30\n",
            "789/789 [==============================] - 7s 9ms/step - loss: 0.0761\n",
            "Epoch 5/30\n",
            "789/789 [==============================] - 8s 10ms/step - loss: 0.0731\n",
            "Epoch 6/30\n",
            "789/789 [==============================] - 7s 9ms/step - loss: 0.0703\n",
            "Epoch 7/30\n",
            "789/789 [==============================] - 8s 10ms/step - loss: 0.0675\n",
            "Epoch 8/30\n",
            "789/789 [==============================] - 7s 9ms/step - loss: 0.0658\n",
            "Epoch 9/30\n",
            "789/789 [==============================] - 8s 10ms/step - loss: 0.0633\n",
            "Epoch 10/30\n",
            "789/789 [==============================] - 8s 10ms/step - loss: 0.0629\n",
            "Epoch 11/30\n",
            "789/789 [==============================] - 7s 10ms/step - loss: 0.0603\n",
            "Epoch 12/30\n",
            "789/789 [==============================] - 7s 9ms/step - loss: 0.0595\n",
            "Epoch 13/30\n",
            "789/789 [==============================] - 8s 10ms/step - loss: 0.0574\n",
            "Epoch 14/30\n",
            "789/789 [==============================] - 7s 9ms/step - loss: 0.0574\n",
            "Epoch 15/30\n",
            "789/789 [==============================] - 7s 9ms/step - loss: 0.0569\n",
            "Epoch 16/30\n",
            "789/789 [==============================] - 7s 9ms/step - loss: 0.0552\n",
            "Epoch 17/30\n",
            "789/789 [==============================] - 8s 10ms/step - loss: 0.0542\n",
            "Epoch 18/30\n",
            "789/789 [==============================] - 7s 9ms/step - loss: 0.0527\n",
            "Epoch 19/30\n",
            "789/789 [==============================] - 8s 10ms/step - loss: 0.0515\n",
            "Epoch 20/30\n",
            "789/789 [==============================] - 8s 10ms/step - loss: 0.0516\n",
            "Epoch 21/30\n",
            "789/789 [==============================] - 8s 10ms/step - loss: 0.0504\n",
            "Epoch 22/30\n",
            "789/789 [==============================] - 8s 10ms/step - loss: 0.0496\n",
            "Epoch 23/30\n",
            "789/789 [==============================] - 8s 10ms/step - loss: 0.0495\n",
            "Epoch 24/30\n",
            "789/789 [==============================] - 8s 10ms/step - loss: 0.0494\n",
            "Epoch 25/30\n",
            "789/789 [==============================] - 7s 9ms/step - loss: 0.0477\n",
            "Epoch 26/30\n",
            "789/789 [==============================] - 8s 10ms/step - loss: 0.0470\n",
            "Epoch 27/30\n",
            "789/789 [==============================] - 8s 10ms/step - loss: 0.0465\n",
            "Epoch 28/30\n",
            "789/789 [==============================] - 8s 10ms/step - loss: 0.0459\n",
            "Epoch 29/30\n",
            "789/789 [==============================] - 8s 10ms/step - loss: 0.0449\n",
            "Epoch 30/30\n",
            "789/789 [==============================] - 8s 10ms/step - loss: 0.0443\n",
            "2 fold set\n",
            "Epoch 1/30\n",
            "789/789 [==============================] - 9s 10ms/step - loss: 0.0549\n",
            "Epoch 2/30\n",
            "789/789 [==============================] - 8s 10ms/step - loss: 0.0516\n",
            "Epoch 3/30\n",
            "789/789 [==============================] - 8s 10ms/step - loss: 0.0491\n",
            "Epoch 4/30\n",
            "789/789 [==============================] - 8s 10ms/step - loss: 0.0478\n",
            "Epoch 5/30\n",
            "789/789 [==============================] - 8s 10ms/step - loss: 0.0465\n",
            "Epoch 6/30\n",
            "789/789 [==============================] - 8s 10ms/step - loss: 0.0458\n",
            "Epoch 7/30\n",
            "789/789 [==============================] - 8s 10ms/step - loss: 0.0446\n",
            "Epoch 8/30\n",
            "789/789 [==============================] - 8s 10ms/step - loss: 0.0438\n",
            "Epoch 9/30\n",
            "789/789 [==============================] - 8s 10ms/step - loss: 0.0443\n",
            "Epoch 10/30\n",
            "789/789 [==============================] - 7s 9ms/step - loss: 0.0424\n",
            "Epoch 11/30\n",
            "789/789 [==============================] - 8s 10ms/step - loss: 0.0419\n",
            "Epoch 12/30\n",
            "789/789 [==============================] - 8s 10ms/step - loss: 0.0418\n",
            "Epoch 13/30\n",
            "789/789 [==============================] - 7s 9ms/step - loss: 0.0405\n",
            "Epoch 14/30\n",
            "789/789 [==============================] - 8s 10ms/step - loss: 0.0401\n",
            "Epoch 15/30\n",
            "789/789 [==============================] - 7s 9ms/step - loss: 0.0399\n",
            "Epoch 16/30\n",
            "789/789 [==============================] - 7s 9ms/step - loss: 0.0392\n",
            "Epoch 17/30\n",
            "789/789 [==============================] - 8s 10ms/step - loss: 0.0389\n",
            "Epoch 18/30\n",
            "789/789 [==============================] - 8s 10ms/step - loss: 0.0386\n",
            "Epoch 19/30\n",
            "789/789 [==============================] - 7s 9ms/step - loss: 0.0382\n",
            "Epoch 20/30\n",
            "789/789 [==============================] - 7s 9ms/step - loss: 0.0382\n",
            "Epoch 21/30\n",
            "789/789 [==============================] - 8s 10ms/step - loss: 0.0367\n",
            "Epoch 22/30\n",
            "789/789 [==============================] - 8s 10ms/step - loss: 0.0368\n",
            "Epoch 23/30\n",
            "789/789 [==============================] - 7s 9ms/step - loss: 0.0372\n",
            "Epoch 24/30\n",
            "789/789 [==============================] - 8s 10ms/step - loss: 0.0360\n",
            "Epoch 25/30\n",
            "789/789 [==============================] - 8s 10ms/step - loss: 0.0357\n",
            "Epoch 26/30\n",
            "789/789 [==============================] - 7s 9ms/step - loss: 0.0357\n",
            "Epoch 27/30\n",
            "789/789 [==============================] - 8s 10ms/step - loss: 0.0353\n",
            "Epoch 28/30\n",
            "789/789 [==============================] - 7s 10ms/step - loss: 0.0350\n",
            "Epoch 29/30\n",
            "789/789 [==============================] - 8s 10ms/step - loss: 0.0342\n",
            "Epoch 30/30\n",
            "789/789 [==============================] - 8s 10ms/step - loss: 0.0341\n",
            "3 fold set\n",
            "Epoch 1/30\n",
            "789/789 [==============================] - 9s 10ms/step - loss: 0.0398\n",
            "Epoch 2/30\n",
            "789/789 [==============================] - 8s 10ms/step - loss: 0.0384\n",
            "Epoch 3/30\n",
            "789/789 [==============================] - 7s 9ms/step - loss: 0.0371\n",
            "Epoch 4/30\n",
            "789/789 [==============================] - 7s 9ms/step - loss: 0.0358\n",
            "Epoch 5/30\n",
            "789/789 [==============================] - 7s 9ms/step - loss: 0.0353\n",
            "Epoch 6/30\n",
            "789/789 [==============================] - 7s 9ms/step - loss: 0.0348\n",
            "Epoch 7/30\n",
            "789/789 [==============================] - 7s 9ms/step - loss: 0.0345\n",
            "Epoch 8/30\n",
            "789/789 [==============================] - 7s 9ms/step - loss: 0.0338\n",
            "Epoch 9/30\n",
            "789/789 [==============================] - 7s 9ms/step - loss: 0.0339\n",
            "Epoch 10/30\n",
            "789/789 [==============================] - 7s 9ms/step - loss: 0.0332\n",
            "Epoch 11/30\n",
            "789/789 [==============================] - 7s 9ms/step - loss: 0.0332\n",
            "Epoch 12/30\n",
            "789/789 [==============================] - 8s 10ms/step - loss: 0.0324\n",
            "Epoch 13/30\n",
            "789/789 [==============================] - 7s 9ms/step - loss: 0.0324\n",
            "Epoch 14/30\n",
            "789/789 [==============================] - 8s 10ms/step - loss: 0.0323\n",
            "Epoch 15/30\n",
            "789/789 [==============================] - 8s 10ms/step - loss: 0.0316\n",
            "Epoch 16/30\n",
            "789/789 [==============================] - 7s 9ms/step - loss: 0.0310\n",
            "Epoch 17/30\n",
            "789/789 [==============================] - 8s 10ms/step - loss: 0.0314\n",
            "Epoch 18/30\n",
            "789/789 [==============================] - 7s 9ms/step - loss: 0.0313\n",
            "Epoch 19/30\n",
            "789/789 [==============================] - 7s 9ms/step - loss: 0.0302\n",
            "Epoch 20/30\n",
            "789/789 [==============================] - 7s 9ms/step - loss: 0.0303\n",
            "Epoch 21/30\n",
            "789/789 [==============================] - 7s 9ms/step - loss: 0.0299\n",
            "Epoch 22/30\n",
            "789/789 [==============================] - 7s 9ms/step - loss: 0.0298\n",
            "Epoch 23/30\n",
            "789/789 [==============================] - 7s 9ms/step - loss: 0.0295\n",
            "Epoch 24/30\n",
            "789/789 [==============================] - 7s 9ms/step - loss: 0.0293\n",
            "Epoch 25/30\n",
            "789/789 [==============================] - 8s 10ms/step - loss: 0.0290\n",
            "Epoch 26/30\n",
            "789/789 [==============================] - 8s 10ms/step - loss: 0.0293\n",
            "Epoch 27/30\n",
            "789/789 [==============================] - 8s 10ms/step - loss: 0.0286\n",
            "Epoch 28/30\n",
            "789/789 [==============================] - 8s 10ms/step - loss: 0.0284\n",
            "Epoch 29/30\n",
            "789/789 [==============================] - 8s 10ms/step - loss: 0.0282\n",
            "Epoch 30/30\n",
            "789/789 [==============================] - 8s 10ms/step - loss: 0.0285\n",
            "4 fold set\n",
            "Epoch 1/30\n",
            "789/789 [==============================] - 9s 10ms/step - loss: 0.0326\n",
            "Epoch 2/30\n",
            "789/789 [==============================] - 8s 10ms/step - loss: 0.0311\n",
            "Epoch 3/30\n",
            "789/789 [==============================] - 8s 10ms/step - loss: 0.0310\n",
            "Epoch 4/30\n",
            "789/789 [==============================] - 8s 10ms/step - loss: 0.0301\n",
            "Epoch 5/30\n",
            "789/789 [==============================] - 8s 10ms/step - loss: 0.0292\n",
            "Epoch 6/30\n",
            "789/789 [==============================] - 8s 10ms/step - loss: 0.0287\n",
            "Epoch 7/30\n",
            "789/789 [==============================] - 8s 10ms/step - loss: 0.0285\n",
            "Epoch 8/30\n",
            "789/789 [==============================] - 8s 10ms/step - loss: 0.0285\n",
            "Epoch 9/30\n",
            "789/789 [==============================] - 8s 10ms/step - loss: 0.0280\n",
            "Epoch 10/30\n",
            "789/789 [==============================] - 8s 10ms/step - loss: 0.0282\n",
            "Epoch 11/30\n",
            "789/789 [==============================] - 8s 10ms/step - loss: 0.0279\n",
            "Epoch 12/30\n",
            "789/789 [==============================] - 8s 10ms/step - loss: 0.0275\n",
            "Epoch 13/30\n",
            "789/789 [==============================] - 8s 10ms/step - loss: 0.0272\n",
            "Epoch 14/30\n",
            "789/789 [==============================] - 8s 10ms/step - loss: 0.0265\n",
            "Epoch 15/30\n",
            "789/789 [==============================] - 8s 10ms/step - loss: 0.0267\n",
            "Epoch 16/30\n",
            "789/789 [==============================] - 8s 10ms/step - loss: 0.0269\n",
            "Epoch 17/30\n",
            "789/789 [==============================] - 8s 10ms/step - loss: 0.0260\n",
            "Epoch 18/30\n",
            "789/789 [==============================] - 8s 10ms/step - loss: 0.0260\n",
            "Epoch 19/30\n",
            "789/789 [==============================] - 8s 10ms/step - loss: 0.0265\n",
            "Epoch 20/30\n",
            "789/789 [==============================] - 8s 10ms/step - loss: 0.0256\n",
            "Epoch 21/30\n",
            "789/789 [==============================] - 8s 10ms/step - loss: 0.0257\n",
            "Epoch 22/30\n",
            "789/789 [==============================] - 8s 10ms/step - loss: 0.0258\n",
            "Epoch 23/30\n",
            "789/789 [==============================] - 8s 10ms/step - loss: 0.0249\n",
            "Epoch 24/30\n",
            "789/789 [==============================] - 8s 10ms/step - loss: 0.0256\n",
            "Epoch 25/30\n",
            "789/789 [==============================] - 8s 10ms/step - loss: 0.0252\n",
            "Epoch 26/30\n",
            "789/789 [==============================] - 8s 10ms/step - loss: 0.0248\n",
            "Epoch 27/30\n",
            "789/789 [==============================] - 8s 10ms/step - loss: 0.0248\n",
            "Epoch 28/30\n",
            "789/789 [==============================] - 8s 10ms/step - loss: 0.0248\n",
            "Epoch 29/30\n",
            "789/789 [==============================] - 8s 10ms/step - loss: 0.0247\n",
            "Epoch 30/30\n",
            "789/789 [==============================] - 8s 10ms/step - loss: 0.0247\n",
            "5 fold set\n",
            "Epoch 1/30\n",
            "789/789 [==============================] - 9s 10ms/step - loss: 0.0268\n",
            "Epoch 2/30\n",
            "789/789 [==============================] - 8s 10ms/step - loss: 0.0264\n",
            "Epoch 3/30\n",
            "789/789 [==============================] - 8s 10ms/step - loss: 0.0259\n",
            "Epoch 4/30\n",
            "789/789 [==============================] - 8s 10ms/step - loss: 0.0255\n",
            "Epoch 5/30\n",
            "789/789 [==============================] - 8s 10ms/step - loss: 0.0249\n",
            "Epoch 6/30\n",
            "789/789 [==============================] - 8s 10ms/step - loss: 0.0249\n",
            "Epoch 7/30\n",
            "789/789 [==============================] - 8s 11ms/step - loss: 0.0247\n",
            "Epoch 8/30\n",
            "789/789 [==============================] - 8s 11ms/step - loss: 0.0241\n",
            "Epoch 9/30\n",
            "789/789 [==============================] - 8s 10ms/step - loss: 0.0246\n",
            "Epoch 10/30\n",
            "789/789 [==============================] - 8s 11ms/step - loss: 0.0240\n",
            "Epoch 11/30\n",
            "789/789 [==============================] - 8s 11ms/step - loss: 0.0236\n",
            "Epoch 12/30\n",
            "789/789 [==============================] - 8s 10ms/step - loss: 0.0238\n",
            "Epoch 13/30\n",
            "789/789 [==============================] - 8s 11ms/step - loss: 0.0237\n",
            "Epoch 14/30\n",
            "789/789 [==============================] - 8s 11ms/step - loss: 0.0235\n",
            "Epoch 15/30\n",
            "789/789 [==============================] - 8s 10ms/step - loss: 0.0232\n",
            "Epoch 16/30\n",
            "789/789 [==============================] - 8s 10ms/step - loss: 0.0235\n",
            "Epoch 17/30\n",
            "789/789 [==============================] - 8s 10ms/step - loss: 0.0229\n",
            "Epoch 18/30\n",
            "789/789 [==============================] - 8s 10ms/step - loss: 0.0231\n",
            "Epoch 19/30\n",
            "789/789 [==============================] - 8s 10ms/step - loss: 0.0232\n",
            "Epoch 20/30\n",
            "789/789 [==============================] - 8s 10ms/step - loss: 0.0229\n",
            "Epoch 21/30\n",
            "789/789 [==============================] - 8s 10ms/step - loss: 0.0226\n",
            "Epoch 22/30\n",
            "789/789 [==============================] - 8s 10ms/step - loss: 0.0226\n",
            "Epoch 23/30\n",
            "789/789 [==============================] - 8s 10ms/step - loss: 0.0223\n",
            "Epoch 24/30\n",
            "789/789 [==============================] - 8s 10ms/step - loss: 0.0224\n",
            "Epoch 25/30\n",
            "789/789 [==============================] - 8s 10ms/step - loss: 0.0218\n",
            "Epoch 26/30\n",
            "789/789 [==============================] - 8s 11ms/step - loss: 0.0218\n",
            "Epoch 27/30\n",
            "789/789 [==============================] - 8s 10ms/step - loss: 0.0217\n",
            "Epoch 28/30\n",
            "789/789 [==============================] - 8s 10ms/step - loss: 0.0219\n",
            "Epoch 29/30\n",
            "789/789 [==============================] - 8s 10ms/step - loss: 0.0212\n",
            "Epoch 30/30\n",
            "789/789 [==============================] - 8s 10ms/step - loss: 0.0215\n",
            "0 fold set\n",
            "1 fold set\n",
            "2 fold set\n",
            "3 fold set\n",
            "4 fold set\n",
            "5 fold set\n"
          ],
          "name": "stdout"
        }
      ]
    },
    {
      "cell_type": "code",
      "metadata": {
        "id": "bn7YjZfoDKNl"
      },
      "source": [
        "stack_train = np.concatenate([fc_train, xgb_train, lgb_train], axis=1)\n",
        "stack_test = np.concatenate([fc_test, xgb_test, lgb_test], axis=1)\n",
        "\n",
        "stack_train.shape, stack_test.shape"
      ],
      "execution_count": null,
      "outputs": []
    },
    {
      "cell_type": "code",
      "metadata": {
        "id": "RECU0VWnTECE"
      },
      "source": [
        "def D_block(x, filters, initializer=None):\n",
        "  x = Dense(filters, kernel_initializer=initializer)(x)\n",
        "  x = BatchNormalization()(x)\n",
        "  x = Activation(\"relu\")(x)\n",
        "  return x\n",
        "\n",
        "def stacking_model():\n",
        "  inputs = Input(2)\n",
        "\n",
        "  d1 = D_block(inputs, 128, \"normal\")\n",
        "  d2 = D_block(d1, 64)\n",
        "  d3 = D_block(d2, 32)\n",
        "  d4 = D_block(d3, 16)\n",
        "  d5 = D_block(d3, 8)\n",
        "\n",
        "  outputs = Dense(1, kernel_initializer=\"normal\")(d4)\n",
        "\n",
        "  model = Model(inputs, outputs)\n",
        "  return model\n",
        "\n",
        "stacking_model = stacking_model()\n",
        "stacking_model.summary()"
      ],
      "execution_count": null,
      "outputs": []
    },
    {
      "cell_type": "code",
      "metadata": {
        "id": "Dgpak4_cDf0l"
      },
      "source": [
        "stacking_model = xgboost.XGBRegressor(max_depth=6, n_estimators=500)\n",
        "stacking_model.fit(stack_train, y_data, epochs=13)"
      ],
      "execution_count": null,
      "outputs": []
    },
    {
      "cell_type": "markdown",
      "metadata": {
        "id": "76aeKfkfdqU4"
      },
      "source": [
        "### 추론"
      ]
    },
    {
      "cell_type": "code",
      "metadata": {
        "id": "WkUU6oX0cacx",
        "colab": {
          "base_uri": "https://localhost:8080/",
          "height": 419
        },
        "outputId": "3a0a0b01-1864-4607-b9fa-9bc0786c8945"
      },
      "source": [
        "test = pd.read_csv(path + \"test.csv\")\n",
        "test"
      ],
      "execution_count": null,
      "outputs": [
        {
          "output_type": "execute_result",
          "data": {
            "text/html": [
              "<div>\n",
              "<style scoped>\n",
              "    .dataframe tbody tr th:only-of-type {\n",
              "        vertical-align: middle;\n",
              "    }\n",
              "\n",
              "    .dataframe tbody tr th {\n",
              "        vertical-align: top;\n",
              "    }\n",
              "\n",
              "    .dataframe thead th {\n",
              "        text-align: right;\n",
              "    }\n",
              "</style>\n",
              "<table border=\"1\" class=\"dataframe\">\n",
              "  <thead>\n",
              "    <tr style=\"text-align: right;\">\n",
              "      <th></th>\n",
              "      <th>uid</th>\n",
              "      <th>SMILES</th>\n",
              "    </tr>\n",
              "  </thead>\n",
              "  <tbody>\n",
              "    <tr>\n",
              "      <th>0</th>\n",
              "      <td>test_0</td>\n",
              "      <td>COc1ccc(S(=O)(=O)NC2CCN(C3CCCCC3)CC2)c(C)c1C</td>\n",
              "    </tr>\n",
              "    <tr>\n",
              "      <th>1</th>\n",
              "      <td>test_1</td>\n",
              "      <td>CC(CCCC1CCC2C3=C(CC[C@]12C)[C@@]1(C)CC[C@H](C)...</td>\n",
              "    </tr>\n",
              "    <tr>\n",
              "      <th>2</th>\n",
              "      <td>test_2</td>\n",
              "      <td>C[C@@H]1C[C@@H]1c1ccc2c(c1)c(-c1ccc[nH]c1=O)c(...</td>\n",
              "    </tr>\n",
              "    <tr>\n",
              "      <th>3</th>\n",
              "      <td>test_3</td>\n",
              "      <td>CCCn1c(=O)c2ccccc2n2c(SCC(=O)NC(Cc3ccccc3)c3cc...</td>\n",
              "    </tr>\n",
              "    <tr>\n",
              "      <th>4</th>\n",
              "      <td>test_4</td>\n",
              "      <td>CC(C)CN(C[C@@H](O)[C@H](Cc1ccccc1)NC(=O)OCc1cn...</td>\n",
              "    </tr>\n",
              "    <tr>\n",
              "      <th>...</th>\n",
              "      <td>...</td>\n",
              "      <td>...</td>\n",
              "    </tr>\n",
              "    <tr>\n",
              "      <th>597</th>\n",
              "      <td>test_597</td>\n",
              "      <td>N#Cc1c(-n2c3ccccc3c3ccccc32)c(-n2c3ccccc3c3ccc...</td>\n",
              "    </tr>\n",
              "    <tr>\n",
              "      <th>598</th>\n",
              "      <td>test_598</td>\n",
              "      <td>CC1(C)c2ccccc2N(c2ccc(-c3cc(-c4ccc(N5c6ccccc6C...</td>\n",
              "    </tr>\n",
              "    <tr>\n",
              "      <th>599</th>\n",
              "      <td>test_599</td>\n",
              "      <td>Cc1nc(-c2ccc(N3c4ccccc4C(C)(C)c4ccccc43)cc2)cc...</td>\n",
              "    </tr>\n",
              "    <tr>\n",
              "      <th>600</th>\n",
              "      <td>test_600</td>\n",
              "      <td>c1ccc2c(c1)Oc1ccccc1N2c1ccc(-c2nc3ccccc3s2)cc1</td>\n",
              "    </tr>\n",
              "    <tr>\n",
              "      <th>601</th>\n",
              "      <td>test_601</td>\n",
              "      <td>c1ccc2c(c1)Oc1ccccc1N2c1ccc(-c2nc3cc4sc(-c5ccc...</td>\n",
              "    </tr>\n",
              "  </tbody>\n",
              "</table>\n",
              "<p>602 rows × 2 columns</p>\n",
              "</div>"
            ],
            "text/plain": [
              "          uid                                             SMILES\n",
              "0      test_0       COc1ccc(S(=O)(=O)NC2CCN(C3CCCCC3)CC2)c(C)c1C\n",
              "1      test_1  CC(CCCC1CCC2C3=C(CC[C@]12C)[C@@]1(C)CC[C@H](C)...\n",
              "2      test_2  C[C@@H]1C[C@@H]1c1ccc2c(c1)c(-c1ccc[nH]c1=O)c(...\n",
              "3      test_3  CCCn1c(=O)c2ccccc2n2c(SCC(=O)NC(Cc3ccccc3)c3cc...\n",
              "4      test_4  CC(C)CN(C[C@@H](O)[C@H](Cc1ccccc1)NC(=O)OCc1cn...\n",
              "..        ...                                                ...\n",
              "597  test_597  N#Cc1c(-n2c3ccccc3c3ccccc32)c(-n2c3ccccc3c3ccc...\n",
              "598  test_598  CC1(C)c2ccccc2N(c2ccc(-c3cc(-c4ccc(N5c6ccccc6C...\n",
              "599  test_599  Cc1nc(-c2ccc(N3c4ccccc4C(C)(C)c4ccccc43)cc2)cc...\n",
              "600  test_600     c1ccc2c(c1)Oc1ccccc1N2c1ccc(-c2nc3ccccc3s2)cc1\n",
              "601  test_601  c1ccc2c(c1)Oc1ccccc1N2c1ccc(-c2nc3cc4sc(-c5ccc...\n",
              "\n",
              "[602 rows x 2 columns]"
            ]
          },
          "metadata": {},
          "execution_count": 11
        }
      ]
    },
    {
      "cell_type": "code",
      "metadata": {
        "id": "xXeIj2wQdouP",
        "colab": {
          "base_uri": "https://localhost:8080/"
        },
        "outputId": "0a762b66-0494-439e-fb50-088f06c02e2b"
      },
      "source": [
        "fg_test = fingerprint(test)\n",
        "fg_test.shape "
      ],
      "execution_count": null,
      "outputs": [
        {
          "output_type": "execute_result",
          "data": {
            "text/plain": [
              "(602, 2048)"
            ]
          },
          "metadata": {},
          "execution_count": 13
        }
      ]
    },
    {
      "cell_type": "code",
      "metadata": {
        "colab": {
          "base_uri": "https://localhost:8080/"
        },
        "id": "jH_iNcPpDzWI",
        "outputId": "664975e8-eda2-43ff-be60-6ec90499beef"
      },
      "source": [
        "stacking_pred = stacking_model.predict(stack_test)\n",
        "stacking_pred.shape"
      ],
      "execution_count": null,
      "outputs": [
        {
          "data": {
            "text/plain": [
              "(602,)"
            ]
          },
          "execution_count": 21,
          "metadata": {},
          "output_type": "execute_result"
        }
      ]
    }
  ]
}